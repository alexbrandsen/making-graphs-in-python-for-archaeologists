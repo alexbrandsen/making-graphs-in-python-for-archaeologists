{
 "cells": [
  {
   "cell_type": "markdown",
   "metadata": {
    "id": "Ey6Qb1IkIq2h"
   },
   "source": [
    "# Graphs & Plots\n",
    "\n",
    "In this workshop you'll learn about:\n",
    "\n",
    "- The basics of Python (optional)\n",
    "- Making graphs with Seaborn\n",
    "- Graph types\n",
    "    - Bar chart\n",
    "    - Pie chart\n",
    "    - Box plot\n",
    "    - Histogram\n",
    "    - Scatter plot\n",
    "    - Line plot\n",
    "    - Heatmap\n",
    "- Customising graphs\n",
    "- Saving graphs as images\n",
    "\n",
    "If you are completely new to programming, or to Python, you can start below with the 'Python Basics' section. If you already have some experience, or just want to get straight into making graphs, you can skip to the 'Making Graphs' section.\n"
   ]
  },
  {
   "cell_type": "markdown",
   "metadata": {
    "id": "fXCwDHFxvG8E"
   },
   "source": [
    "## Python Basics\n",
    "\n",
    "Everyone can learn how to code and the best way to learn is by doing. Click any block of code in this tutorial, such as the one below, and press SHIFT + ENTER to run it. You can also press the \"Run\" button at the top of the screen (it looks like a 'play' button). Go try and run the code block below!"
   ]
  },
  {
   "cell_type": "code",
   "execution_count": null,
   "metadata": {
    "id": "iGiUatvZIq2l"
   },
   "outputs": [],
   "source": [
    "print(\"Let's get started!\")"
   ]
  },
  {
   "cell_type": "markdown",
   "metadata": {
    "id": "GDkBpbZnIq2n"
   },
   "source": [
    "We can assign values to variables using the `=` operator. A variable is just a name we give to a particular value, you can imagine it as a box you put a certain thing (or value) into, and on which you write a name with a black marker. The following code block contains two operations. First, we assign the value 42 to the name `number_of_sherds`. After that `number_of_sherds` will hold the value 42. You might say Python stored the value 42 in `number_of_sherds`.\n",
    "\n",
    "Finally we print the value using the `print()` function. This command just outputs ('prints') whatever you put in between the brackets, so you can see it in your Jupyter notebook.\n",
    "\n",
    "(Tip: You can recognise functions by the brackets after the name of the function.)"
   ]
  },
  {
   "cell_type": "code",
   "execution_count": null,
   "metadata": {
    "id": "3JYGK1mNIq2n"
   },
   "outputs": [],
   "source": [
    "number_of_sherds = 42\n",
    "\n",
    "print(number_of_sherds)"
   ]
  },
  {
   "cell_type": "markdown",
   "metadata": {
    "id": "vKrpe_4LIq2o"
   },
   "source": [
    "Now that we stored the value 42 in `number_of_sherds`, we can use the variable `number_of_sherds` to do things like the following:"
   ]
  },
  {
   "cell_type": "code",
   "execution_count": null,
   "metadata": {
    "id": "pKBBTUmtIq2o"
   },
   "outputs": [],
   "source": [
    "print(number_of_sherds + 8)\n",
    "print(number_of_sherds * 2)\n",
    "print(number_of_sherds / 2)"
   ]
  },
  {
   "cell_type": "markdown",
   "metadata": {
    "id": "CQVhJKYeIq2p"
   },
   "source": [
    "Can you figure out what is happening here?\n",
    "\n",
    "Python uses the following symbols for different math operations:\n",
    "\n",
    "- `+` for addition\n",
    "- `-` for subtraction\n",
    "- `*` for multiplication\n",
    "- `/` for division\n",
    "- and the lesser used `**` for exponents (power calculation)\n",
    "\n",
    "Now it's already time for your first exercise! In the cell below, underneath the line that says `# your code goes here` create a new variable named `favourite_number` and assign your favourite number to it. Then print your favourite number.\n"
   ]
  },
  {
   "cell_type": "code",
   "execution_count": null,
   "metadata": {
    "id": "gLxeHdC8Iq2p"
   },
   "outputs": [],
   "source": [
    "# your code goes here\n"
   ]
  },
  {
   "cell_type": "markdown",
   "metadata": {
    "id": "gzn7sopLIq2q"
   },
   "source": [
    "So `number_of_sherds` and `favourite_number` contained numbers, but variables are not just numbers. They can also be text. These are called strings. For example:"
   ]
  },
  {
   "cell_type": "code",
   "execution_count": null,
   "metadata": {
    "id": "zibwt7kuIq2q"
   },
   "outputs": [],
   "source": [
    "site_name = 'Oss'\n",
    "print(site_name)"
   ]
  },
  {
   "cell_type": "markdown",
   "metadata": {
    "id": "gu0HichiIq2q"
   },
   "source": [
    "Once we have defined a variable, we can update and combine variables to do more complex computations. For example, in the cell below, we first define that we have 23 sites, but then we find another one, so we update the variable: we add 1 more site to the total."
   ]
  },
  {
   "cell_type": "code",
   "execution_count": null,
   "metadata": {
    "id": "KhXjwyqeIq2r"
   },
   "outputs": [],
   "source": [
    "number_of_sites = 23\n",
    "number_of_sites = number_of_sites + 1\n",
    "print(number_of_sites)"
   ]
  },
  {
   "cell_type": "markdown",
   "metadata": {
    "id": "FJ9tKZ5xIq2r"
   },
   "source": [
    "Besides changing the value of a variable, we can also combine variables, using various math operations. Here, we define the number of pottery artefacts found at an excavation, and the number of flint artefacts. Then we combine the two to get the total number of artefacts."
   ]
  },
  {
   "cell_type": "code",
   "execution_count": null,
   "metadata": {
    "id": "Wd2vF9LnIq2r"
   },
   "outputs": [],
   "source": [
    "number_of_pottery = 164\n",
    "number_of_flint = 273\n",
    "total_number_of_artefacts = number_of_pottery + number_of_flint\n",
    "print(total_number_of_artefacts)"
   ]
  },
  {
   "cell_type": "markdown",
   "metadata": {
    "id": "mtn5OmuzIq2r"
   },
   "source": [
    "As we mentioned earlier, `print()` is a function. A function simply takes variable(s), does a computation, and then returns the result. Another one of these functions is `len()`. This function takes a string variable, counts the number of characters in that string, and then returns that number. We can print the output of the function, or assign it to a new variable:"
   ]
  },
  {
   "cell_type": "code",
   "execution_count": null,
   "metadata": {
    "id": "a2cFrstwIq2s"
   },
   "outputs": [],
   "source": [
    "# assign a string variable\n",
    "first_name = \"Indiana\"\n",
    "\n",
    "# print the number of characters in the first_name variable\n",
    "print(len(first_name))\n",
    "\n",
    "# save the number of characters in the new first_name_length variable\n",
    "first_name_length = len(first_name)\n",
    "\n",
    "# print first_name_length\n",
    "print(first_name_length)"
   ]
  },
  {
   "cell_type": "markdown",
   "metadata": {
    "id": "cHPjZFu9Iq2s"
   },
   "source": [
    "You see here that the `len()` function returns a value, and you can either store that value in a variable using `=`, or show the value using `print()`.\n",
    "\n",
    "Did you also see the lines starting with `#`? These are comments, a way for you to describe what is happening with the code, and Python will ignore any line which starts with such a hashtag. Comments are very useful for explaining your code to other people, but also as reminders to yourself when you want to reuse your code later!\n",
    "\n",
    "## `if` Statements\n",
    "\n",
    "`if` statements check if a condition is `True`, and if so, it executes a bit of code. If the condition is `False`, the code is not executed. `if` statements are always ended by a colon (`:`), and the part of the code that falls under the `if` statement is indented: use the TAB button to indent. This is the *syntax* of the `if` statement in Python. This also makes it easier to read for humans!"
   ]
  },
  {
   "cell_type": "code",
   "execution_count": null,
   "metadata": {
    "id": "XZ5T7PorIq2t"
   },
   "outputs": [],
   "source": [
    "# set gold_found to True (this is a so-called boolean variable, it is either 'True' or 'False')\n",
    "gold_found = True\n",
    "\n",
    "# if we've found gold, print 'We are rich!'\n",
    "if gold_found:\n",
    "    print('We are rich!')"
   ]
  },
  {
   "cell_type": "markdown",
   "metadata": {
    "id": "1NpaB6ZRIq2t"
   },
   "source": [
    "Now change `gold_found` to `False` and run the cell again. What happens?\n",
    "\n",
    "We can also evaluate other conditions than just true/false, for example, if a string has a certain value, using the `==` operator:"
   ]
  },
  {
   "cell_type": "code",
   "execution_count": null,
   "metadata": {
    "id": "b9xoDF0xIq2t"
   },
   "outputs": [],
   "source": [
    "objects_found = \"small walls\"\n",
    "\n",
    "if objects_found == \"small walls\":\n",
    "    print(\"Archaeologists always find a series of small walls...\")"
   ]
  },
  {
   "cell_type": "markdown",
   "metadata": {
    "id": "ZdXIlPWOIq2u"
   },
   "source": [
    "The `==` operator is different from `=`: a single `=` is used to assign a value to a variable, a double one (`==`) is used to check if two things are the same.\n",
    "\n",
    "If we're dealing with numbers, we can also check if a number is greater or smaller than another number, using the `<` (smaller than) and `>` (bigger than) operators:"
   ]
  },
  {
   "cell_type": "code",
   "execution_count": null,
   "metadata": {
    "id": "3WLYbbYdIq2u"
   },
   "outputs": [],
   "source": [
    "car_max_weight = 100\n",
    "artefacts_weight = 50\n",
    "\n",
    "if artefacts_weight < car_max_weight:\n",
    "    print(\"Load more artefacts!\")\n",
    "\n",
    "if artefacts_weight > car_max_weight:\n",
    "    print(\"Stop loading!\")"
   ]
  },
  {
   "cell_type": "markdown",
   "metadata": {
    "id": "0s1CWhI9Iq2v"
   },
   "source": [
    "Did you see how the first `if` statement was True, and the second was False? Now change `artefacts_weight` in the cell above to a value higher than 100 and run the code again. Now change `artefacts_weight` to exactly 100 and run the cell again. Did you expect the results?\n",
    "\n",
    "The problem is that when `artefacts_weight` is exactly the same as `car_max_weight`, neither `if` statement is true, and nothing happens. Let's fix that with the 'bigger than or equal to' operator: `=>`:"
   ]
  },
  {
   "cell_type": "code",
   "execution_count": null,
   "metadata": {
    "id": "VVPAVHvEIq2v"
   },
   "outputs": [],
   "source": [
    "car_max_weight = 100\n",
    "artefacts_weight = 100\n",
    "\n",
    "if artefacts_weight < car_max_weight:\n",
    "    print(\"Load more artefacts!\")\n",
    "\n",
    "if artefacts_weight >= car_max_weight:\n",
    "    print(\"Stop loading!\")"
   ]
  },
  {
   "cell_type": "markdown",
   "metadata": {
    "id": "hT5y92qyIq2w"
   },
   "source": [
    "We can also solve this problem by changing the second `if` statement to an `else` statement. The code in the `else` statement is executed if the previous `if` statement was False."
   ]
  },
  {
   "cell_type": "code",
   "execution_count": null,
   "metadata": {
    "id": "6q5p66dLIq2w"
   },
   "outputs": [],
   "source": [
    "car_max_weight = 100\n",
    "artefacts_weight = 100\n",
    "\n",
    "# if artefacts weigh less than the max weight that can go in a car: load more. else: stop loading\n",
    "if artefacts_weight < car_max_weight:\n",
    "    print(\"Load more artefacts!\")\n",
    "else:\n",
    "    print(\"Stop loading!\")"
   ]
  },
  {
   "cell_type": "markdown",
   "metadata": {
    "id": "dNEWCPHdIq2x"
   },
   "source": [
    "In the `if` statement above, we checked just one condition: if the car could hold the artefacts. But we can also check multiple conditions at the same time, by using the `or` and `and` keywords:\n",
    "\n",
    "- Using `or` will return True if *one* of the two conditions are True\n",
    "- Using `and` will return True if *both* of the two conditions are True"
   ]
  },
  {
   "cell_type": "code",
   "execution_count": null,
   "metadata": {
    "id": "M7bfrIetIq2x"
   },
   "outputs": [],
   "source": [
    "sunlight = True\n",
    "water_available = 5\n",
    "\n",
    "# if we still have more than a liter of water, AND the sun is out, keep digging. Else, stop digging\n",
    "if water_available > 1 and sunlight:\n",
    "    print('Keep digging!')\n",
    "else:\n",
    "    print('Stop the excavation!')"
   ]
  },
  {
   "cell_type": "markdown",
   "metadata": {
    "id": "F4GrPyLZIq2y"
   },
   "source": [
    "Now set `sunlight` to `False` in the cell above, and run it again. Then, change `and` to `or`. Did you expect the results?\n",
    "\n",
    "Besides checking of something is `True`, we can also use `if` statements to check if something is not `True`, like the below code shows. Also change `sunlight` to `False` to see how it works."
   ]
  },
  {
   "cell_type": "code",
   "execution_count": null,
   "metadata": {
    "id": "BeSem6bMIq2y"
   },
   "outputs": [],
   "source": [
    "sunlight = True\n",
    "\n",
    "# if there is no sunlight, it is night. Else, it is day\n",
    "if not sunlight:\n",
    "    print('It is night!')\n",
    "else:\n",
    "    print('It is day!')"
   ]
  },
  {
   "cell_type": "markdown",
   "metadata": {
    "id": "rYFk20g2Iq2z"
   },
   "source": [
    "Now let's test what you've learned! In the cell below, write code to do the following steps:\n",
    "\n",
    "- Create a variable called `name` containing your full name\n",
    "- Create a variable called `famous_archaeologist` containing the string \"Indiana Jones\"\n",
    "- Use the `len()` function to get the length of both variables, and save these to 2 new variables (choose a variable name that makes sense to you)\n",
    "- Write an `if` statement that checks if your name is longer than Indiana Jones\n",
    "- If your name is longer, print \"My name is longer\"\n",
    "- Use an `else` statement to print \"My name is shorter\"\n",
    "- Don't forget to comment on your code!"
   ]
  },
  {
   "cell_type": "code",
   "execution_count": null,
   "metadata": {
    "id": "JAl2E8V4Iq2z"
   },
   "outputs": [],
   "source": [
    "# your code goes here:\n"
   ]
  },
  {
   "cell_type": "markdown",
   "metadata": {
    "id": "9z52d2scIq20"
   },
   "source": [
    "## Lists\n",
    "\n",
    "In the previous module, we looked at strings and numbers; variables containing 1 value. A `list` is a variable type that holds multiple values. Each value is called an 'element' or 'item' of the list.\n",
    "\n",
    "A list is always enclosed by square brackets `[]` and accepts items in a row separated by commas (`,`). A list can contain any combination of Python data types — strings, numbers, or booleans all mixed together. However, generally it's best to use just 1 type within a list, to keep things simple.\n",
    "\n",
    "Below, we've defined a list containing 3 strings: artefact types. Try printing the `artefact_types` variable to see what's inside:"
   ]
  },
  {
   "cell_type": "code",
   "execution_count": null,
   "metadata": {
    "id": "qwMBnCjbIq21"
   },
   "outputs": [],
   "source": [
    "# define list\n",
    "artefact_weights = [23, 653, 95, 494, 42]\n",
    "\n",
    "# print list here:\n"
   ]
  },
  {
   "cell_type": "markdown",
   "metadata": {
    "id": "F7cDjBrjIq21"
   },
   "source": [
    "Remember the `len()` function? When used on a string, it returns the number or characters. But we can also use it on a list, in which case it returns the number of elements.\n",
    "\n",
    "In the cell below, use the `len()` function to print the number of elements in `artefact_weights`:"
   ]
  },
  {
   "cell_type": "code",
   "execution_count": null,
   "metadata": {
    "id": "rIPqsdigIq22"
   },
   "outputs": [],
   "source": [
    "# your code goes here:\n"
   ]
  },
  {
   "cell_type": "markdown",
   "metadata": {
    "id": "BawCj0F6Iq22"
   },
   "source": [
    "We can also have a list containing strings, and we add 1 more element to a list using the `append()` function:"
   ]
  },
  {
   "cell_type": "code",
   "execution_count": null,
   "metadata": {
    "id": "oO97OVexIq23"
   },
   "outputs": [],
   "source": [
    "# define current sites\n",
    "sites_found = ['Teotihuacán', 'Giza', 'Atlantis']\n",
    "\n",
    "# we found another site!\n",
    "new_site = 'Ur'\n",
    "\n",
    "# add it to the list\n",
    "sites_found.append(new_site)\n",
    "\n",
    "# print updated list\n",
    "print(sites_found)"
   ]
  },
  {
   "cell_type": "markdown",
   "metadata": {
    "id": "sFJROCl8Iq23"
   },
   "source": [
    "Similarly, we can remove elements using the `remove()` function:"
   ]
  },
  {
   "cell_type": "code",
   "execution_count": null,
   "metadata": {
    "id": "y0h-irXWIq23"
   },
   "outputs": [],
   "source": [
    "# Atlantis was a hoax! Let's remove it from our list\n",
    "sites_found.remove('Atlantis')\n",
    "\n",
    "# print updated list\n",
    "print(sites_found)"
   ]
  },
  {
   "cell_type": "markdown",
   "metadata": {
    "id": "65Shd7jNIq24"
   },
   "source": [
    "## Loops\n",
    "\n",
    "Having a list of things is a useful way to store information, but even more useful is the ability to *iterate* over a list. Iterating just means to go through each element of a list, and then do something with that element. Such a repetition of a computation is called a loop. In Python, one of the most used loops is the `for` loop. This simply means that *for* each item in a list, we do something.\n",
    "\n",
    "A basic basic for loop will consist of two lines:\n",
    "\n",
    "- On the first line, you type the English word `for`, a new variable name for each item in the list, the English word `in`, the name of the list you want to iterate over, and a colon (`:`)\n",
    "- On the second line, you indent and write an instruction or 'statement' to be completed for each item in the list\n",
    "\n",
    "So if we wanted to loop through our sites and print each site, that would look like this:"
   ]
  },
  {
   "cell_type": "code",
   "execution_count": null,
   "metadata": {
    "id": "2AFniM8jIq24"
   },
   "outputs": [],
   "source": [
    "# loop through sites\n",
    "for site in sites_found:\n",
    "\n",
    "    # print each site\n",
    "    print(site)"
   ]
  },
  {
   "cell_type": "markdown",
   "metadata": {
    "id": "Yvqq2O8TIq24"
   },
   "source": [
    "Of course, this particular loop isn't very useful, as the output is basically the same as `print(sites_found)`. But when we combine loops with `if` statements, or other functions, this can be very useful:"
   ]
  },
  {
   "cell_type": "code",
   "execution_count": null,
   "metadata": {
    "id": "og_plHIuIq25"
   },
   "outputs": [],
   "source": [
    "# loop through weights\n",
    "for weight in artefact_weights:\n",
    "\n",
    "    # if weight is more than 30\n",
    "    if weight > 50:\n",
    "\n",
    "        # print the weight\n",
    "        print(weight)"
   ]
  },
  {
   "cell_type": "code",
   "execution_count": null,
   "metadata": {
    "id": "_fug4PB0Iq25"
   },
   "outputs": [],
   "source": [
    "# loop through weights\n",
    "for weight in artefact_weights:\n",
    "\n",
    "    # convert weight from kilograms to grams, and print it\n",
    "    gram_weight = weight * 1000\n",
    "    print(gram_weight)"
   ]
  },
  {
   "cell_type": "markdown",
   "metadata": {
    "id": "pK3pFnzDIq26"
   },
   "source": [
    "Another exercise! We have two lists, `total_artefact_weights` and `flint_weights`. But the weights in `total_artefact_weights` were measured in kilograms, while the flint was measured in grams. We want to combine both lists to end up with a complete list of artefact weights in kilograms, including flint.\n",
    "\n",
    "- Write a loop that iterates over the provided list `flint_weights`\n",
    "- For each flint weight, divide the weight by 1000 to convert it to kilograms, then append that weight to `total_artefact_weights`\n",
    "- Finally, print the total weights"
   ]
  },
  {
   "cell_type": "code",
   "execution_count": null,
   "metadata": {
    "id": "4SjKSd4lIq26"
   },
   "outputs": [],
   "source": [
    "# define weight lists\n",
    "total_artefact_weights = [1.495, 48.2, 100] # in kilograms\n",
    "flint_weights = [1023, 459, 2304] # in grams\n",
    "\n",
    "# your code goes here"
   ]
  },
  {
   "cell_type": "markdown",
   "metadata": {
    "id": "orskkfgFIq26"
   },
   "source": [
    "## Functions\n",
    "\n",
    "A function is way of bundling up code to perform specific tasks. It's kind of like making a little Python wind-up toy that runs on command.\n",
    "\n",
    "Functions are useful because they can help make your code more organised and save you from repetition. If you have to do some task over and over again, you don't want to write out the same code over and over again from scratch.\n",
    "\n",
    "We've encountered built-in Python functions many times already, including:\n",
    "\n",
    "- `print()`\n",
    "- `len()`\n",
    "\n",
    "These functions contain bundled up code that perform specific tasks whenever we call them.\n",
    "\n",
    "To make your own function, you use the keyword `def`, short for define, followed by your desired name for the function, parentheses (`()`) and a colon (`:`).\n",
    "\n",
    "Then, on the following lines, you indent one tab over and write some code that you want your function to perform.\n",
    "\n",
    "Below, a function is defined that prints the chorus of the song [Stonehenge by Ylvis](https://www.youtube.com/watch?v=mbyzgeee2mg)."
   ]
  },
  {
   "cell_type": "code",
   "execution_count": null,
   "metadata": {
    "id": "CKmElmiuIq27"
   },
   "outputs": [],
   "source": [
    "def sing_ylvis_stonehenge_chorus():\n",
    "    print(\"What's the meaning of Stonehenge?\")\n",
    "    print(\"It's killing me that no one knows,\")\n",
    "    print(\"Why it was built 5000 years ago.\")\n",
    "\n",
    "    print(\"Why did they build the Stonehenge?\")\n",
    "    print(\"How could they raise the stones so high?\")\n",
    "    print(\"Completely without the technology we have today?\")"
   ]
  },
  {
   "cell_type": "markdown",
   "metadata": {
    "id": "-expnqGeIq27"
   },
   "source": [
    "As you can see, the definition of the function `sing_ylvis_stonehenge_chorus()` in the cell above doesn't have any output. That is because it has been *defined*, but not yet *called*. To call a function you defined, simply type the function name plus parentheses, like so:"
   ]
  },
  {
   "cell_type": "code",
   "execution_count": null,
   "metadata": {
    "id": "39lcdoTAIq27"
   },
   "outputs": [],
   "source": [
    "sing_ylvis_stonehenge_chorus()"
   ]
  },
  {
   "cell_type": "markdown",
   "metadata": {
    "id": "5_7BMCsfIq27"
   },
   "source": [
    "You can add \"parameters\" to your functions by putting parameter names inside the parentheses.\n",
    "\n",
    "For example, we can create a function to print what we have found, by adding the parameter `artefact_type` inside the parentheses, which will require an artefact type to be passed to the function. The value you pass to the function is called an \"argument\".\n",
    "\n",
    "- parameter = artefact_type (thing that requires a value for the function)\n",
    "- argument = \"flint\" (actual value passed to function)\n",
    "\n",
    "Since parameters and arguments are so interrelated, they're sometimes confused for each other. You can read [Python's official distinction here](https://docs.python.org/3.3/faq/programming.html#faq-argument-vs-parameter)."
   ]
  },
  {
   "cell_type": "code",
   "execution_count": null,
   "metadata": {
    "id": "yT5_JlnvIq28"
   },
   "outputs": [],
   "source": [
    "# define a function, which receives artefact_type\n",
    "def show_type_found(artefact_type):\n",
    "\n",
    "    # use artefact_type to print what type has been found\n",
    "    print(\"We have found: \"+artefact_type)\n",
    "\n",
    "# now call the function with various arguments\n",
    "show_type_found('flint')\n",
    "show_type_found('pottery')\n",
    "show_type_found('bone')"
   ]
  },
  {
   "cell_type": "markdown",
   "metadata": {
    "id": "RjY3VmstIq28"
   },
   "source": [
    "Great, this way we can define the function 1 time, but re-use it for every artefact type!\n",
    "\n",
    "We can also use multiple parameters, which need to be separated by commas:"
   ]
  },
  {
   "cell_type": "code",
   "execution_count": null,
   "metadata": {
    "id": "e83QidWXIq28"
   },
   "outputs": [],
   "source": [
    "# define a function that prints the average of 2 numbers\n",
    "def print_average(number_1, number_2):\n",
    "\n",
    "    # calculate total\n",
    "    total = number_1 + number_2\n",
    "\n",
    "    # calculate average\n",
    "    average = total / 2\n",
    "\n",
    "    # print the average\n",
    "    print(\"The average is: \" + str(average)) # the str() function converts a number to a string so we can combine it with another string\n",
    "\n",
    "# calculate an average\n",
    "print_average(394, 924)"
   ]
  },
  {
   "cell_type": "markdown",
   "metadata": {
    "id": "t3jvPJksIq29"
   },
   "source": [
    "## Libraries\n",
    "\n",
    "Ready for some great Python news? You don't have to code everything by yourself from scratch! Many other people have written Python code that you can import into your own code, which will save you time and do a lot of work behind-the-scenes. We call the code written and packaged up by other people a \"library\", \"package\", or \"module\", although here we will just refer to them as libraries.\n",
    "\n",
    "The `import` statement is used whenever you want to import an external Python library that was written by someone else. Let's give that a go with the `os` library, which stands for \"Operating System\", and allows us to interact with other files on your computer."
   ]
  },
  {
   "cell_type": "code",
   "execution_count": null,
   "metadata": {
    "id": "VUTADDHZIq29"
   },
   "outputs": [],
   "source": [
    "# import the os library\n",
    "import os"
   ]
  },
  {
   "cell_type": "markdown",
   "metadata": {
    "id": "ULlX-1zsIq29"
   },
   "source": [
    "Now that we have `os` imported, we can use it. To call any of the functions within a library, you just type the library name followed by a full stop and the function name. The `os` library has a function called `getcwd()` which returns the current working directory (cwd), which is the place your current script is running."
   ]
  },
  {
   "cell_type": "code",
   "execution_count": null,
   "metadata": {
    "id": "RGQuupLLIq2-"
   },
   "outputs": [],
   "source": [
    "# get the cwd and print it\n",
    "cwd = os.getcwd()\n",
    "print(cwd)"
   ]
  },
  {
   "cell_type": "markdown",
   "metadata": {
    "id": "Cis6opRyIq2-"
   },
   "source": [
    "That should show you the *path* where you've saved your scripts. Normally, this would be a folder on your computer, but as we're running this online in Google Colab, you will see \"/content\", which is the online folder the script is running in.\n"
   ]
  },
  {
   "cell_type": "markdown",
   "metadata": {
    "id": "x7dd3uxYIq2-"
   },
   "source": [
    "## Pandas DataFrames\n",
    "\n",
    "A DataFrame is a 2-dimensional data structure, it is a type of variable just like lists and strings. 2-dimensional might sound complex, but really it just means that it contains data in rows and columns, just like your average spreadsheet. DataFrames can also do just about anything you can do in Excel, plus some extra stuff! A lot of our archaeological data is in this format, so if you start coding your own projects, it is likely that DataFrames will make your life easier.\n",
    "\n",
    "DataFrames are not part of the default Python installation, so we need to import the library first, just like we did with `os` and `csv`. The library that contains DataFrames is called `pandas`. Let's import it now:"
   ]
  },
  {
   "cell_type": "code",
   "execution_count": null,
   "metadata": {
    "id": "uSjKKejkIq2-"
   },
   "outputs": [],
   "source": [
    "import pandas as pd"
   ]
  },
  {
   "cell_type": "markdown",
   "metadata": {
    "id": "kVRnjYZpIq2-"
   },
   "source": [
    "The above `import` statement not only imports the Pandas library but also gives it an alias or nickname — `pd`. This alias will save us from having to type out the entire word pandas each time we need to use it. Many Python libraries have commonly used aliases like pd.\n",
    "\n",
    "Before we can open data, we need to download it to Google Colab. We're going to download all the data needed for this workshop into the /content folder on Colab, from a GitHub repository, using the `wget` command:"
   ]
  },
  {
   "cell_type": "code",
   "execution_count": null,
   "metadata": {
    "id": "YnOdIRYSiZiH"
   },
   "outputs": [],
   "source": [
    "!wget https://raw.githubusercontent.com/alexbrandsen/making-graphs-in-python-for-archaeologists/refs/heads/main/data/test.csv\n"
   ]
  },
  {
   "cell_type": "markdown",
   "metadata": {
    "id": "X--1EtPiiakG"
   },
   "source": [
    "To read in the downloaded CSV file, we will use the function `pd.read_csv()` and insert the name of our desired file:"
   ]
  },
  {
   "cell_type": "code",
   "execution_count": null,
   "metadata": {
    "id": "G0u16bT8Iq2_"
   },
   "outputs": [],
   "source": [
    "test_df = pd.read_csv('test.csv', delimiter=',')"
   ]
  },
  {
   "cell_type": "markdown",
   "metadata": {
    "id": "3aktdNnLIq2_"
   },
   "source": [
    "This creates a Pandas DataFrame object — often abbreviated as df, e.g., `test_df`. A DataFrame looks and acts a lot like a spreadsheet. But it has special powers and functions outside the scope of this workshop.\n",
    "\n",
    "When reading in the CSV file, we also specified delimiter. The delimiter specifies the character that separates or \"delimits\" the columns in our dataset. For CSV files, the delimiter will most often be a comma. (CSV is short for Comma Separated Values.) Sometimes, however, the delimiter of a CSV file might be a tab (\\t) or, more rarely, another character. Always inspect your data before loading to see which delimiter is used!\n",
    "\n",
    "To see what data is stored in a DataFrame, you can use the print() function, like with any other variable:"
   ]
  },
  {
   "cell_type": "code",
   "execution_count": null,
   "metadata": {
    "id": "NBai4Z8gIq2_"
   },
   "outputs": [],
   "source": [
    "print(test_df)"
   ]
  },
  {
   "cell_type": "markdown",
   "metadata": {
    "id": "e-zOBDm1Iq3A"
   },
   "source": [
    "## Making Graphs\n",
    "\n",
    "Ok, it's finally time to make some graphs!\n",
    "\n",
    "To be able to use graphs, we need to import some more libraries. We need `matplotlib` and `seaborn` for the visualisations."
   ]
  },
  {
   "cell_type": "code",
   "execution_count": null,
   "metadata": {
    "id": "wtEguwYoTJJg"
   },
   "outputs": [],
   "source": [
    "# import libraries\n",
    "\n",
    "# import pandas, to open spreadsheet. Use 'pd' to refer to pandas\n",
    "import pandas as pd\n",
    "\n",
    "# from the matplot library, import only the pyplot section. Use 'plt' to refer to pyplot\n",
    "from matplotlib import pyplot as plt\n",
    "\n",
    "# import seaborn, refer to the library as 'sns'\n",
    "import seaborn as sns\n"
   ]
  },
  {
   "cell_type": "markdown",
   "metadata": {
    "id": "22ixML7nIq3B"
   },
   "source": [
    "Great! Now we need some data to visualise, let's use some artefacts data"
   ]
  },
  {
   "cell_type": "code",
   "execution_count": null,
   "metadata": {
    "id": "how1RUwHTRIE"
   },
   "outputs": [],
   "source": [
    "# download data from github\n",
    "!wget https://raw.githubusercontent.com/alexbrandsen/making-graphs-in-python-for-archaeologists/refs/heads/main/data/artefacts.csv\n",
    "\n",
    "# import csv as dataframe\n",
    "artefacts = pd.read_csv('artefacts.csv')\n",
    "\n",
    "# display it, to show you what the data looks like\n",
    "artefacts"
   ]
  },
  {
   "cell_type": "markdown",
   "metadata": {
    "id": "24gt5JJ_Iq3C"
   },
   "source": [
    "This spreadsheet contains data from a field survey in the Italian research area Agro Pontino, just south of Rome. Each row is an observation (record) and describes a single artefact as found during the field survey. Artefacts that were discovered during a visit were numbered sequentially. Normally several artefacts are found on a arable field and several adjacent fields might together form one archaeological site. An arable field is often revisited several times to collect more artefacts in order to get a better picture of the site in size, function and date.\n",
    "\n",
    "Most of the variables used are categorical data (measurement level) with coded (numerical) values. These categorical data are particularly suitable for data analysis.  \n",
    "\n",
    "Now let's make your first graph!\n",
    "\n",
    "## Bar Chart\n",
    "\n",
    "Imagine we wish to investigate the different find categories (MAT) as they were discovered during the field survey in the Agro Pontino. This would analyse a single (univariate) categorical (nominal) attribute. We would like the visualize both the frequencies (counts) and relative occurrence (overall percentages). Bar charts are good for showing counts over categories, and pie charts are (sort of..) good for showing percentages over categories. Let's make a bar chart first. Seaborn calls this a `countplot`, as we are counting how often each material category occurs:\n"
   ]
  },
  {
   "cell_type": "code",
   "execution_count": null,
   "metadata": {
    "id": "IcUHJgdqIq3D"
   },
   "outputs": [],
   "source": [
    "# create a bar chart (this puts the plot into Python's memory)\n",
    "sns.countplot(\n",
    "    x = 'MAT', # which column to use on the x axis (the categories)\n",
    "    data = artefacts # where seaborn should look for the data\n",
    ")\n",
    "\n",
    "# display the plot (this takes the plot from memory and shows it in your Notebook)\n",
    "plt.show()"
   ]
  },
  {
   "cell_type": "markdown",
   "metadata": {
    "id": "JP-E48g-Iq3D"
   },
   "source": [
    "In Excel, you would first have to manually make a pivot table grouping MAT and counting ART, and then create the bar chart by clicking through a couple of options. In Python this is much easier to do as most of the work is done for you. Also, you can read the code to see exactly how a graph is created.\n",
    "\n",
    "And perhaps more importantly, your graph is now completely reproducible! If you share the code and data, anyone can reproduce what you've done, fully in line with Open Science principles.\n",
    "\n",
    "You can also recreate the same plot with new updated data very quickly, just re-run the above 2 cells and your graph is done!"
   ]
  },
  {
   "cell_type": "markdown",
   "metadata": {
    "id": "SR4GquHMIq3D"
   },
   "source": [
    "## Pie Chart\n",
    "\n",
    "The creators of Seaborn haven't included a function to create a pie chart. This is probably because pie charts are not a great visualisation tool, even though they are used a lot!\n",
    "\n",
    "The problem is that humans are pretty bad at reading angles. In the below pie chart, try to figure out which group is the biggest one and try to order them by value.\n",
    "\n",
    "![A Terrible Pie Chart](https://raw.githubusercontent.com/alexbrandsen/making-graphs-in-python-for-archaeologists/refs/heads/main/terrible-pie-chart.jpg)\n",
    "\n",
    "You will probably struggle to do so and this is why pie charts must be avoided. It is much clearer to just use a bar chart!\n",
    "\n",
    "But if you for some reason feel like you absolutely *must* make a pie chart (probably because your boss insists on one...), this is how to do it, using `matplotlib`:"
   ]
  },
  {
   "cell_type": "code",
   "execution_count": null,
   "metadata": {
    "id": "59k0BHN7Iq3E"
   },
   "outputs": [],
   "source": [
    "# define Seaborn color palette to use\n",
    "colors = sns.color_palette('pastel')[0:7] # seven colours, because we have 7 categories\n",
    "\n",
    "# create pie chart\n",
    "plt.pie(\n",
    "    artefacts.groupby('MAT')['ART'].count(), # data you want to display\n",
    "    labels = [1, 2, 3, 4, 5, 6, 99], # manually define the category labels\n",
    "    colors = colors # manually set the colours for the categories\n",
    ")\n",
    "\n",
    "# display plot\n",
    "plt.show()"
   ]
  },
  {
   "cell_type": "markdown",
   "metadata": {
    "id": "tGV5LpE0Iq3E"
   },
   "source": [
    "Which graph is easier to read, the bar chart or the pie chart?\n",
    "\n",
    "## Box Plot\n",
    "\n",
    "A box plot uses boxes and whiskers to summarise the distribution of numerical values within categories. Basically, it shows the minimum and maximum value (top and bottom of whiskers), as well as the quartiles and median (within the box).\n",
    "\n",
    "If we wanted to see the boxplot for the distribution of number of finds per visit, we can do that like this:"
   ]
  },
  {
   "cell_type": "code",
   "execution_count": null,
   "metadata": {
    "id": "u2QKK7x4Iq3E"
   },
   "outputs": [],
   "source": [
    "# create a box plot\n",
    "sns.boxplot(\n",
    "    y=\"ART\", # the variable we want to plot\n",
    "    data=artefacts # the dataframe to get the variable from\n",
    ")\n",
    "\n",
    "# display plot\n",
    "plt.show()"
   ]
  },
  {
   "cell_type": "markdown",
   "metadata": {
    "id": "OSv0RgjoIq3F"
   },
   "source": [
    "Similarly, we can plot the distribution of number of finds per material category, by just adding `x='MAT'`:"
   ]
  },
  {
   "cell_type": "code",
   "execution_count": null,
   "metadata": {
    "id": "GBqR1oybIq3F",
    "scrolled": true
   },
   "outputs": [],
   "source": [
    "# create a box plot\n",
    "sns.boxplot(\n",
    "    y=\"ART\", # the variable we want to plot\n",
    "    x=\"MAT\", # the categories for which we want separate boxplots\n",
    "    data=artefacts # the dataframe to get the variable from\n",
    ")\n",
    "\n",
    "# display plot\n",
    "plt.show()"
   ]
  },
  {
   "cell_type": "markdown",
   "metadata": {
    "id": "pDd37Y3KIq3F"
   },
   "source": [
    "We can see that in general, material 1 (flint) is found in much higher quantities than the other material categories.\n",
    "\n",
    "## Violin plots\n",
    "\n",
    "Ever heard of a violin plot? Like boxplots, they show the distribution of a value, but in more detail. (Technically, it shows a boxplot combined with a [Kernel density estimation](https://en.wikipedia.org/wiki/Kernel_density_estimation), a different way of visualising a distribution)\n",
    "\n",
    "These violin plotsshow the distribution better than a boxplot, especially with data which has a binomial, or other non-normal distribution. Let's try that with the same data as the boxplot:"
   ]
  },
  {
   "cell_type": "code",
   "execution_count": null,
   "metadata": {
    "id": "AkWlQhJaIq3F"
   },
   "outputs": [],
   "source": [
    "# making the violin plot\n",
    "sns.catplot(\n",
    "    data=artefacts,\n",
    "    x=\"MAT\",\n",
    "    y=\"ART\",\n",
    "    kind=\"violin\",\n",
    "    density_norm='width'\n",
    ")"
   ]
  },
  {
   "cell_type": "markdown",
   "metadata": {
    "id": "z5Thm3D0Iq3G"
   },
   "source": [
    "So we can see the distributions of the amount of artefacts found per site, split out for each material type. It seems that the distributions for the different material types are pretty similar for 3, 4, and 5, with 1 being most common, and 2, 6, and 99 being very uncommonly found.\n",
    "\n",
    "On top of this, we can add information about multiple visits to the same site, by adding the VISIT column as the hue. This will make a separate violin for each visit to a site, to further split out the data:"
   ]
  },
  {
   "cell_type": "code",
   "execution_count": null,
   "metadata": {
    "id": "A3EVRxdoIq3G"
   },
   "outputs": [],
   "source": [
    "# making the violin plot\n",
    "sns.catplot(\n",
    "    data=artefacts,\n",
    "    x=\"MAT\",\n",
    "    y=\"ART\",\n",
    "    hue=\"VISIT\",\n",
    "    kind=\"violin\",\n",
    "    density_norm='width'\n",
    ")"
   ]
  },
  {
   "cell_type": "markdown",
   "metadata": {
    "id": "lCYXR9uvIq3G"
   },
   "source": [
    "So we can see that on average, when a site is visited multiple times, the amount of finds decreases. Except for material type 6! There might be something interesting going there that warrents further data investigation, but let's just stick with graphs and plots for now..\n",
    "\n",
    "## Histograms\n",
    "\n",
    "Histograms look similar to bar charts, but are used for completely different types of data. While in a bar chart, each bar is a distinct category (a nominal or ordinal value), in a histogram each bar represents a so-called *bin* of a number variable (interval or ratio value). The bar simply shows how many times a row contains a value that falls within the start and end range of the bin. This sounds a bit complicated, so let's just work with an example: plotting the X Coordinates (column 'XCOORD') in a histogram:"
   ]
  },
  {
   "cell_type": "code",
   "execution_count": null,
   "metadata": {
    "id": "7Y0yV6F9Iq3H"
   },
   "outputs": [],
   "source": [
    "# make a histogram\n",
    "sns.histplot(\n",
    "    data = artefacts, # which data to use  (notice the order of the arguments doesn't matter?)\n",
    "    x = 'XCOORD' # set which column we want to plot\n",
    ")\n",
    "\n",
    "# show the plot\n",
    "plt.show()"
   ]
  },
  {
   "cell_type": "markdown",
   "metadata": {
    "id": "vGAZzY0jIq3H"
   },
   "source": [
    "What we see here is the distribution of finds over the X Coordinate, so basically, in which areas have we found more/less artefacts. Seaborn has automatically made 11 bars, each bar defined as a range of X Coordinates. Every row that has an X Coordinate that falls within a bar is counted up, and that determines the height of the bar. So for the first bar, this is a count of how many rows have an X Coordinate between 2,349,250 and 2,349,500. This means that bin width is 250 (2349500 - 2349500 = 250).\n",
    "\n",
    "So Seaborn does some calculations in the background to automatically determine the bin width, using an algoritm designed to optimise the visualisation. But we can also manually set the bin width:"
   ]
  },
  {
   "cell_type": "code",
   "execution_count": null,
   "metadata": {
    "id": "_bJQ9YqPIq3H"
   },
   "outputs": [],
   "source": [
    "# make a histogram\n",
    "sns.histplot(\n",
    "    data = artefacts, # which data to use  (notice the order of the arguments doesn't matter?)\n",
    "    x = 'XCOORD', # set which column we want to plot\n",
    "    binwidth = 500\n",
    ")\n",
    "\n",
    "# show the plot\n",
    "plt.show()"
   ]
  },
  {
   "cell_type": "markdown",
   "metadata": {
    "id": "k8MwETPOIq3I"
   },
   "source": [
    "Play around with the bin width in the above cell and see which gives you the best overview of the distribution.\n",
    "\n",
    "## Scatter plot\n",
    "\n",
    "Of course, plotting coordinates in a histogram is not ideal, as they are geographical units that are much better suited to be displayed in 2 dimensions. So let's plot the X and Y coordinates in a scatter plot, which will basically give us a map of sites."
   ]
  },
  {
   "cell_type": "code",
   "execution_count": null,
   "metadata": {
    "id": "XjD3tu67Iq3I"
   },
   "outputs": [],
   "source": [
    "# make a scatter plot\n",
    "sns.scatterplot(\n",
    "    x=\"XCOORD\",\n",
    "    y=\"YCOORD\",\n",
    "    data=artefacts\n",
    ")\n",
    "\n",
    "# show the plot\n",
    "plt.show()"
   ]
  },
  {
   "cell_type": "markdown",
   "metadata": {
    "id": "NTuzqFY5Iq3I"
   },
   "source": [
    "Great, that looks like a map with sites! We could also show how many artefacts are found in each site by relating the size of each dot to the ART column:"
   ]
  },
  {
   "cell_type": "code",
   "execution_count": null,
   "metadata": {
    "id": "8j-JmxYiIq3J"
   },
   "outputs": [],
   "source": [
    "# make a scatter plot\n",
    "sns.scatterplot(\n",
    "    x=\"XCOORD\",\n",
    "    y=\"YCOORD\",\n",
    "    size=\"ART\",\n",
    "    data=artefacts\n",
    ")\n",
    "\n",
    "# show the plot\n",
    "plt.show()"
   ]
  },
  {
   "cell_type": "markdown",
   "metadata": {
    "id": "pqsYITXyIq3J"
   },
   "source": [
    "Now imagine we want to see what kind of artefacts are found where, so we want to add in the MAT column. We can show the material by colouring the points. To do this in Seaborn, you simply add `hue=` and the name of the variable:"
   ]
  },
  {
   "cell_type": "code",
   "execution_count": null,
   "metadata": {
    "id": "XSibRbpLIq3K"
   },
   "outputs": [],
   "source": [
    "# make a scatter plot\n",
    "sns.scatterplot(\n",
    "    x=\"XCOORD\",\n",
    "    y=\"YCOORD\",\n",
    "    size=\"ART\",\n",
    "    hue=\"MAT\",\n",
    "    data=artefacts\n",
    ")\n",
    "\n",
    "# show the plot\n",
    "plt.show()"
   ]
  },
  {
   "cell_type": "markdown",
   "metadata": {
    "id": "sUkIEvNfIq3K"
   },
   "source": [
    "Huh, that is strange, the legend shows material from 20 to 80! This is because MAT is a numerical column, and Python assumes you want to show a range of numbers, so it automatically calculates bins. Python hasn't understood that MAT is actually number representing certain categories (nominal). So let's update the DataFrame by changing the MAT numbers to category names, and then plot it again:"
   ]
  },
  {
   "cell_type": "code",
   "execution_count": null,
   "metadata": {
    "id": "hombYbg6Iq3L"
   },
   "outputs": [],
   "source": [
    "# update MAT column\n",
    "artefacts = artefacts.replace({\n",
    "    'MAT' : {\n",
    "        1 : 'flint',\n",
    "        2 : 'obsidian',\n",
    "        3 : 'other stone',\n",
    "        4 : 'whole pebble',\n",
    "        5 : 'ceramic',\n",
    "        6 : 'ceramic tile',\n",
    "        7 : 'metal',\n",
    "        8 : 'glass',\n",
    "        9 : 'other',\n",
    "        10 : 'daub',\n",
    "        11 : 'solidified sandstone',\n",
    "        12 : 'quartzite',\n",
    "        99 : 'unidentified',\n",
    "    }\n",
    "})\n",
    "\n",
    "# make a scatter plot\n",
    "sns.scatterplot(\n",
    "    x=\"XCOORD\",\n",
    "    y=\"YCOORD\",\n",
    "    size=\"ART\",\n",
    "    hue=\"MAT\",\n",
    "    data=artefacts\n",
    ")\n",
    "\n",
    "# show the plot\n",
    "plt.show()"
   ]
  },
  {
   "cell_type": "markdown",
   "metadata": {
    "id": "flZVxqbDIq3M"
   },
   "source": [
    "That's more like it! We can also clarify the difference between the categories even more, by choosing different style points for each category, with the `style` option:"
   ]
  },
  {
   "cell_type": "code",
   "execution_count": null,
   "metadata": {
    "id": "kaOXGMtjIq3M"
   },
   "outputs": [],
   "source": [
    "# make a scatter plot\n",
    "sns.scatterplot(\n",
    "    x=\"XCOORD\",\n",
    "    y=\"YCOORD\",\n",
    "    size=\"ART\",\n",
    "    hue=\"MAT\",\n",
    "    style=\"MAT\",\n",
    "    data=artefacts\n",
    ")\n",
    "\n",
    "# show the plot\n",
    "plt.show()"
   ]
  },
  {
   "cell_type": "markdown",
   "metadata": {
    "id": "PpVaVhOOIq3M"
   },
   "source": [
    "There are many more options to customise your plots, but we'll get back to those a bit further down.\n",
    "\n",
    "## Line Plots\n",
    "\n",
    "Line plots are most commonly used to plot a single value which changes over time. As we don't have any time or date element in our `artefacts` data set, we'll use a standard data set you can load via Seaborn: flights. It contains data on the number of flights over 10 years from a particular airport. Let's say we wanted to visualise the increase in the number of flights for the month May:"
   ]
  },
  {
   "cell_type": "code",
   "execution_count": null,
   "metadata": {
    "id": "jlxmjHHJIq3N"
   },
   "outputs": [],
   "source": [
    "# import flights dataset from Seaborn\n",
    "flights = sns.load_dataset(\"flights\")\n",
    "\n",
    "# display it, so we can see the data structure\n",
    "flights"
   ]
  },
  {
   "cell_type": "code",
   "execution_count": null,
   "metadata": {
    "id": "VhQoWVx9Iq3N"
   },
   "outputs": [],
   "source": [
    "# select flights in May\n",
    "may_flights = flights[ flights[\"month\"] == 'May' ]\n",
    "\n",
    "# make line plot\n",
    "sns.lineplot(\n",
    "    data = may_flights,\n",
    "    x = \"year\",\n",
    "    y = \"passengers\"\n",
    ")\n",
    "\n",
    "# display the plot\n",
    "plt.show()"
   ]
  },
  {
   "cell_type": "markdown",
   "metadata": {
    "id": "Yx9I_jtpIq3N"
   },
   "source": [
    "Try updating the cell above to show the flights in August.\n",
    "\n",
    "The above plot shows just one month, but we can also visualise all 12 months at the same time:"
   ]
  },
  {
   "cell_type": "code",
   "execution_count": null,
   "metadata": {
    "id": "kVPjX54vIq3O"
   },
   "outputs": [],
   "source": [
    "# make line plot\n",
    "sns.lineplot(\n",
    "    data = flights,\n",
    "    x = \"year\",\n",
    "    y = \"passengers\"\n",
    ")\n",
    "\n",
    "# display the plot\n",
    "plt.show()"
   ]
  },
  {
   "cell_type": "markdown",
   "metadata": {
    "id": "aphPAheTIq3O"
   },
   "source": [
    "Seaborn was given 12 values for each year (1 for each month) and automatically calculated the average (dark blue line) and the minimum/maximum value (the light blue area). Instead of aggregating the months like this, we can also plot each month separately, again by using the `hue` option:"
   ]
  },
  {
   "cell_type": "code",
   "execution_count": null,
   "metadata": {
    "id": "tLZnSInBIq3O"
   },
   "outputs": [],
   "source": [
    "# make line plot\n",
    "sns.lineplot(\n",
    "    data = flights,\n",
    "    x = \"year\",\n",
    "    y = \"passengers\",\n",
    "    hue = \"month\"\n",
    ")\n",
    "\n",
    "# display the plot\n",
    "plt.show()"
   ]
  },
  {
   "cell_type": "markdown",
   "metadata": {
    "id": "6YIXFyp8Iq3O"
   },
   "source": [
    "Try and interpret this graph: which season is the busiest with flights?\n",
    "    \n",
    "## Heatmaps\n",
    "\n",
    "When you are trying to visualise 3 variables at the same time, a heatmap is another possible plot. We'll use the flights data again to show what this looks like. We first need to pivot the table so the years are the columns and the months are the rows, and each cell shows the number of flights for that year/month combination. (Don't worry about understanding the `pivot()` function, that's not part of this course)"
   ]
  },
  {
   "cell_type": "code",
   "execution_count": null,
   "metadata": {
    "id": "IZb8OQGtIq3O"
   },
   "outputs": [],
   "source": [
    "# pivot table into right format\n",
    "flights_pivoted = flights.pivot(\"month\", \"year\", \"passengers\")\n",
    "flights_pivoted"
   ]
  },
  {
   "cell_type": "markdown",
   "metadata": {
    "id": "ZPP1S8oKIq3P"
   },
   "source": [
    "Once it is in this format, Seaborn can easily assign a colour to each value, and make a heatmap:"
   ]
  },
  {
   "cell_type": "code",
   "execution_count": null,
   "metadata": {
    "id": "C5F2txHSIq3P"
   },
   "outputs": [],
   "source": [
    "# make heatmap\n",
    "sns.heatmap(flights_pivoted)\n",
    "\n",
    "# display the plot\n",
    "plt.show()"
   ]
  },
  {
   "cell_type": "markdown",
   "metadata": {
    "id": "7exf_QgmIq3P"
   },
   "source": [
    "This is much easier to interpret than the line plot with 12 lines we created earlier! We can see that in general, the summer months are busier, and that over time, flights in all months have increased, with a peak in July.\n",
    "\n",
    "## Customising Graphs\n",
    "\n",
    "While Seaborn does a pretty good job displaying plots in the default colours and styling, specific needs might require some tweaking of the plot styles. We already changed the colour and style of points in the scatter plot above, but there are many more ways you can customise your plots. Let's re-plot the scatter plot from before:"
   ]
  },
  {
   "cell_type": "code",
   "execution_count": null,
   "metadata": {
    "id": "PhAUy-ojIq3Q",
    "scrolled": true
   },
   "outputs": [],
   "source": [
    "# make a scatter plot\n",
    "sns.scatterplot(\n",
    "    x=\"XCOORD\",\n",
    "    y=\"YCOORD\",\n",
    "    hue=\"MAT\",\n",
    "    style=\"MAT\",\n",
    "    data=artefacts\n",
    ")\n",
    "\n",
    "# show the plot\n",
    "plt.show()"
   ]
  },
  {
   "cell_type": "markdown",
   "metadata": {
    "id": "hXtJAMw-Iq3Q"
   },
   "source": [
    "While this gives a good overview of the spatial distribution of the finds, the legend and axes are not clear. Let's fix that, and also add a title and update the style of the plot. For added accessibility, we'll use colours that are easy to distinguish for colorblind people.\n",
    "\n",
    "We use a slightly different way of creating the plot: we first set some global options with `sns.set()`, then we make the plot and save it in a new variable (`finds`), and finally add and edit bits of the plot using both `finds` and `plt`. Unfortunately Seaborn can be a bit confusing regarding where you set which option, but you don't need to remember exactly how to do all these tasks, as long as you know the options exist, and can find the correct syntax when you need it!"
   ]
  },
  {
   "cell_type": "code",
   "execution_count": null,
   "metadata": {
    "id": "UsNjnHGLIq3R"
   },
   "outputs": [],
   "source": [
    "# set the style Seaborn should use for plots from now on\n",
    "sns.set(style='darkgrid')\n",
    "\n",
    "# set default size of a plot\n",
    "sns.set(rc = {'figure.figsize':(7,7)})\n",
    "\n",
    "# make a scatter plot\n",
    "finds = sns.scatterplot(\n",
    "    x=\"XCOORD\",\n",
    "    y=\"YCOORD\",\n",
    "    hue=\"MAT\",\n",
    "    style=\"MAT\",\n",
    "    data=artefacts,\n",
    "    palette=\"colorblind\", # set color palette to colorblind\n",
    ")\n",
    "\n",
    "\n",
    "# add title, set\n",
    "finds.set(title = 'Finds')\n",
    "\n",
    "# add x / y axis labels\n",
    "finds.set(xlabel = \"X Coordinate\", ylabel = \"Y Coordinate\")\n",
    "\n",
    "# rotate x axis tick labels\n",
    "plt.xticks(rotation=45)\n",
    "\n",
    "# show full coordinates (don't use scientific '1.0645e6' notation)\n",
    "plt.ticklabel_format(style = 'plain')\n",
    "\n",
    "# set legend title\n",
    "plt.legend(title = 'Material')\n",
    "\n",
    "# show the plot\n",
    "plt.show()"
   ]
  },
  {
   "cell_type": "markdown",
   "metadata": {
    "id": "23rklQ3JIq3R"
   },
   "source": [
    "That's more like it, it looks ready for publication!\n",
    "\n",
    "## Saving Plots\n",
    "\n",
    "Once you're happy with the way your plot looks, you can export the image in a couple of ways.\n",
    "\n",
    "The first is to simply right click the plot in your Notebook, and select 'save as' or 'download as'. This will save the image as a .png image file at the size and quality displayed in your browser. This is fine if you want to quickly share it with someone, but it generally isn't good enough quality to publish (digitally or on paper).\n",
    "\n",
    "The second way is to tell Seaborn to save the plot as a specific file type and file name, using the `savefig()` function. This way we can control the quality of the image."
   ]
  },
  {
   "cell_type": "code",
   "execution_count": null,
   "metadata": {
    "id": "CInnUeoPIq3S"
   },
   "outputs": [],
   "source": [
    "# make a scatter plot\n",
    "finds = sns.scatterplot(\n",
    "    x=\"XCOORD\",\n",
    "    y=\"YCOORD\",\n",
    "    hue=\"MAT\",\n",
    "    style=\"MAT\",\n",
    "    data=artefacts,\n",
    "    palette=\"colorblind\", # set color palette to colorblind\n",
    ")\n",
    "\n",
    "\n",
    "# add title, set\n",
    "finds.set(title = 'Finds')\n",
    "\n",
    "# add x / y axis labels\n",
    "finds.set(xlabel = \"X Coordinate\", ylabel = \"Y Coordinate\")\n",
    "\n",
    "# rotate x axis tick labels\n",
    "plt.xticks(rotation=45)\n",
    "\n",
    "# show full coordinates (don't use scientific '1.0645e6' notation)\n",
    "plt.ticklabel_format(style = 'plain')\n",
    "\n",
    "# set legend title\n",
    "plt.legend(title = 'Material')\n",
    "\n",
    "\n",
    "# save the figure as a high quality png\n",
    "plt.savefig(\n",
    "    'finds-scatterplot.png', # set the filename for the exported image\n",
    "    dpi=300, # set the dots per inch, which is the quality of the image. 300 is high, 150 is medium, 75 is low\n",
    "    bbox_inches='tight' # set  the padding around the image\n",
    ")\n"
   ]
  },
  {
   "cell_type": "markdown",
   "metadata": {
    "id": "e3nzBXwFIq3S"
   },
   "source": [
    "The finds-scatterplot.png file has now been saved in your modules folder. Go there and open the image to check everything has worked correctly.\n",
    "\n",
    "PNG files are perfectly fine for publishing your plots digitally, but for printed documents, other formats are more suitable, e.g. PDF, SVG or EPS (these are all vector files, which can be printed clearly at any size!).\n",
    "\n",
    "If you want to save the file in a different image format, you simply update the file extension in the filename. In the cell above, try changing \".png\" to \".pdf\" and run it again. Check your modules folder and open the newly created PDF, then zoom in as much as you can. You'll see the lines are still sharp and there's no pixelation going on. Try and compare that to the PNG file!\n",
    "\n",
    "## Exercise\n",
    "\n",
    "Time to create your own plots! Do the following steps, and make sure to plot each graph in a separate cell:\n",
    "\n",
    "- Open the spearheads.csv file, and load it as a DataFrame\n",
    "- Make a bar chart with the `countplot` function of Seaborn, showing the number of spearheads for each date\n",
    "- Make a box plot for the weight variable, visualising the difference in distribution between material (column 'mat') 1 and 2\n",
    "    - Add a title to the box plot\n",
    "- Make a histogram for the variable maxle, with a bin width of 5\n",
    "    - Set the Seaborn style to 'whitegrid'\n",
    "- Make a scatter plot of maxle vs. weight, with mat as the hue and use palette 'bright'\n",
    "    - Does the trend in the distribution make sense? Do you think there's a significant difference between mat 1 and 2?\n",
    "    - Change the x axis label from 'maxle' to 'max length'\n",
    "    - Change the legend title to 'Material'\n",
    "    - Optional bonus points: change the legend labels from 1 and 2 to Bronze and Iron ([hint]( https://www.geeksforgeeks.org/matplotlib-pyplot-legend-in-python/))\n",
    "- Make a line plot with 'date' on the x axis, and 'weight' on the y axis\n",
    "    - What do you think the light blue areas mean?\n",
    "    - Looking at this graph, do you see anything interesting archaeologically speaking?\n",
    "- Make a scatter plot of date vs weight\n",
    "    - Save the plot as a PDF file\n",
    "    - Note: due to quirks with matplotlib, you can't .show() a graph and also use .savefig() in the same cell, this will produce an empty PDF file. Comment out the .show() line to fix this!\n",
    "\n"
   ]
  },
  {
   "cell_type": "code",
   "execution_count": null,
   "metadata": {
    "id": "eOotUxvmIq3T"
   },
   "outputs": [],
   "source": [
    "# download data from github\n",
    "!wget https://raw.githubusercontent.com/alexbrandsen/making-graphs-in-python-for-archaeologists/refs/heads/main/data/spearheads.csv"
   ]
  },
  {
   "cell_type": "code",
   "execution_count": null,
   "metadata": {
    "id": "NOI5OYQZrMnc"
   },
   "outputs": [],
   "source": [
    "# Your code goes here:\n"
   ]
  },
  {
   "cell_type": "markdown",
   "metadata": {
    "id": "YPQGQCvNIq3U"
   },
   "source": [
    "## Bring your own data\n",
    "\n",
    "Done with all the above? Go play with your own data! Follow these steps to get started:\n",
    "\n",
    "- Export your data as CSV. In Excel, click 'save as' and select CSV. In Access: External Data >> Export >> Excel (or Text File)\n",
    "- Upload the CSV file to Google Colab: click on the folder icon on the left marked 'Files', then click the Upload button and select your CSV file\n",
    "- Load the CSV using Pandas\n",
    "- Think of which variable(s) you want to plot, and select an appropriate plot\n",
    "- Want to look at the correlation between each combination of columns? Use: `sns.pairplot(your_data)` (may take a while to compute!)\n",
    "- For more graph inspiration, you can check out:\n",
    "    - [Visualizing statistical relationships](https://seaborn.pydata.org/tutorial/relational.html) (correlation between variables/columns)\n",
    "    - [Visualizing distributions of data](https://seaborn.pydata.org/tutorial/distributions.html)\n",
    "    - [Visualizing categorical data](https://seaborn.pydata.org/tutorial/categorical.html)\n",
    "    - [Various Seaborn examples](https://seaborn.pydata.org/examples/index.html)\n",
    "\n",
    "Didn't bring any data? Load some pottery data from this link: https://raw.githubusercontent.com/alexbrandsen/making-graphs-in-python-for-archaeologists/refs/heads/main/data/pottery.csv"
   ]
  },
  {
   "cell_type": "code",
   "execution_count": null,
   "metadata": {
    "id": "iBLsRp5kIq3U"
   },
   "outputs": [],
   "source": [
    "# load your data here:\n"
   ]
  },
  {
   "cell_type": "code",
   "execution_count": null,
   "metadata": {
    "id": "ONbdgG_iIq3V"
   },
   "outputs": [],
   "source": [
    "# make your graphs here:\n"
   ]
  }
 ],
 "metadata": {
  "colab": {
   "name": "spearheads-ml-test.ipynb",
   "provenance": []
  },
  "kernelspec": {
   "display_name": "Python 3 (ipykernel)",
   "language": "python",
   "name": "python3"
  },
  "language_info": {
   "codemirror_mode": {
    "name": "ipython",
    "version": 3
   },
   "file_extension": ".py",
   "mimetype": "text/x-python",
   "name": "python",
   "nbconvert_exporter": "python",
   "pygments_lexer": "ipython3",
   "version": "3.8.18"
  }
 },
 "nbformat": 4,
 "nbformat_minor": 4
}
